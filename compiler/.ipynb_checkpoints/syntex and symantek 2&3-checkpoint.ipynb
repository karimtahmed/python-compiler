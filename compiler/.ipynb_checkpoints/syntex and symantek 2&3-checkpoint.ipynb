{
 "cells": [
  {
   "cell_type": "code",
   "execution_count": 91,
   "metadata": {},
   "outputs": [
    {
     "name": "stdout",
     "output_type": "stream",
     "text": [
      "enter equation : y=z+2*x\n",
      "['id1', '1', '1', '1']\n",
      "['id1', 'id2', '1', '1']\n",
      "['id1', 'id2', '2', 'id3']\n",
      "['id1', 'id2', '2', 'id3'] id1=id2+2*id3\n",
      "syntex tree : \n",
      "              id1 \n",
      "                 \\ \n",
      "                  = \n",
      "                   \\ \n",
      "                    + \n",
      "                   / \\ \n",
      "                 id2  *\n",
      "                     / \\ \n",
      "                    2  id3\n",
      "semantic tree : \n",
      "              id1 \n",
      "                 \\ \n",
      "                  = \n",
      "                   \\ \n",
      "                    + \n",
      "                   / \\ \n",
      "                 id2  *\n",
      "                     / \\ \n",
      "                    /   \\ \n",
      "                   2   id3\n",
      "        int to float 2           \n"
     ]
    },
    {
     "data": {
      "text/plain": [
       "('id1=id2+2*id3', '2')"
      ]
     },
     "execution_count": 91,
     "metadata": {},
     "output_type": "execute_result"
    }
   ],
   "source": [
    "y=input(\"enter equation : \")\n",
    "equation=list(y)\n",
    "c=0\n",
    "z=1\n",
    "v=0\n",
    "zl=0\n",
    "flag=0\n",
    "l=len(equation)\n",
    "zeko=0\n",
    "t=0\n",
    "eq= [\"1\", \"1\", \"1\", \"1\"]\n",
    "for i in range(len(equation)):\n",
    "    if equation[i].isalpha():\n",
    "        for j in range(len(equation)):\n",
    "            if equation[c] == equation[j] and c != j:\n",
    "                print(c,j,equation[c] ,equation[j])\n",
    "                equation[j]='id'+str(z)\n",
    "        equation[c]='id'+str(z)\n",
    "        z=z+1\n",
    "        eq[zl]=equation[i]\n",
    "        zl=zl+1\n",
    "        print(eq) \n",
    "    if i+1 < l :\n",
    "        flag=0\n",
    "    else:\n",
    "        flag=1\n",
    "    if equation[i].isnumeric():\n",
    "        if flag==0:\n",
    "            if equation[i+1] != '*':\n",
    "                if equation[i+1] == '.':\n",
    "                    v = equation[i]+equation[i+1]+equation[i+2]\n",
    "                    zeko=1\n",
    "                    if i+3 < l:\n",
    "                        if equation[i+3].isnumeric():\n",
    "                            v = v + equation[i+3]\n",
    "                    eq[zl]=v\n",
    "                    t=zl\n",
    "                    zl=zl+1\n",
    "        if equation[i-1] != '.':\n",
    "            if flag == 1 :\n",
    "                v = equation[i]\n",
    "                eq[zl]=v\n",
    "                t=zl \n",
    "                zl=zl+1\n",
    "                \n",
    "            else:\n",
    "                if equation[i+1] != '.':\n",
    "                    v = equation[i]\n",
    "                    eq[zl]=v \n",
    "                    t=zl\n",
    "                    zl=zl+1\n",
    "                    \n",
    "    c=c+1\n",
    "equation=\"\".join(equation)\n",
    "print(eq , equation)\n",
    "syntex()\n",
    "semantic()\n",
    "equation,v\n",
    "#y=z+2*x"
   ]
  },
  {
   "cell_type": "code",
   "execution_count": 4,
   "metadata": {},
   "outputs": [],
   "source": [
    "def syntex():\n",
    "    print('syntex tree : ')\n",
    "    print('              id1 ')\n",
    "    print('                 \\ ')\n",
    "    print('                  = ')\n",
    "    print('                   \\ ')\n",
    "    print('                    + ')\n",
    "    print('                   / \\ ')\n",
    "    print('                 '+eq[1]+'  *')\n",
    "    print('                     / \\ ')\n",
    "    print('                    '+eq[2]+'  '+eq[3])"
   ]
  },
  {
   "cell_type": "code",
   "execution_count": 12,
   "metadata": {},
   "outputs": [
    {
     "name": "stdout",
     "output_type": "stream",
     "text": [
      "syntex tree : \n",
      "              id1 \n",
      "                 \\ \n",
      "                  = \n",
      "                   \\ \n",
      "                    + \n",
      "                   / \\ \n",
      "                 id2  *\n",
      "                     / \\ \n",
      "                    id3  2.0\n"
     ]
    }
   ],
   "source": [
    "syntex()"
   ]
  },
  {
   "cell_type": "code",
   "execution_count": 87,
   "metadata": {},
   "outputs": [],
   "source": [
    "def semantic():\n",
    "    floation=[\" \",\" \",\" \",\" \"]\n",
    "    if zeko == 1:\n",
    "        if t == 1:\n",
    "            floation[2]='int to float ' + eq[2]\n",
    "            floation[3]='int to float ' + eq[3]\n",
    "            floation[1]='                '\n",
    "        elif t == 2:\n",
    "            floation[1]='int to float ' + eq[1]\n",
    "            floation[3]='int to float ' + eq[3]\n",
    "        elif t == 3:\n",
    "            floation[1]='int to float ' + eq[1]\n",
    "            floation[2]='int to float ' + eq[2]\n",
    "    else:\n",
    "        floation[t]='int to float '+ eq[t]\n",
    "        if t != 1:\n",
    "            floation[1]='                '\n",
    "    print('semantic tree : ')\n",
    "    print('              id1 ')\n",
    "    print('                 \\ ')\n",
    "    print('                  = ')\n",
    "    print('                   \\ ')\n",
    "    print('                    + ')\n",
    "    print('                   / \\ ')\n",
    "    print('                 '+eq[1]+'  *')\n",
    "    print('    '+floation[1]+' / \\ ')\n",
    "    print('                    /   \\ ')\n",
    "    print('                   '+eq[2]+'   '+eq[3])\n",
    "    print('        '+floation[2]+'          '+floation[3])"
   ]
  },
  {
   "cell_type": "code",
   "execution_count": 88,
   "metadata": {},
   "outputs": [
    {
     "name": "stdout",
     "output_type": "stream",
     "text": [
      "semantic tree : \n",
      "              id1 \n",
      "                 \\ \n",
      "                  = \n",
      "                   \\ \n",
      "                    + \n",
      "                   / \\ \n",
      "                 id2  *\n",
      "                     / \\ \n",
      "                    /   \\ \n",
      "                   2   id3\n",
      "        int to float 2           \n"
     ]
    }
   ],
   "source": [
    "semantic()"
   ]
  },
  {
   "cell_type": "code",
   "execution_count": null,
   "metadata": {},
   "outputs": [],
   "source": []
  }
 ],
 "metadata": {
  "kernelspec": {
   "display_name": "Python 3",
   "language": "python",
   "name": "python3"
  },
  "language_info": {
   "codemirror_mode": {
    "name": "ipython",
    "version": 3
   },
   "file_extension": ".py",
   "mimetype": "text/x-python",
   "name": "python",
   "nbconvert_exporter": "python",
   "pygments_lexer": "ipython3",
   "version": "3.9.1"
  }
 },
 "nbformat": 4,
 "nbformat_minor": 4
}
