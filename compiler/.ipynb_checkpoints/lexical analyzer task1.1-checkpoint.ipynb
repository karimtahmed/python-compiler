{
 "cells": [
  {
   "cell_type": "code",
   "execution_count": 1,
   "metadata": {},
   "outputs": [],
   "source": [
    "import re"
   ]
  },
  {
   "cell_type": "code",
   "execution_count": 4,
   "metadata": {},
   "outputs": [
    {
     "name": "stdout",
     "output_type": "stream",
     "text": [
      "Please enter an example of Numbers: -3\n",
      "True\n",
      "Please enter an example of Identifiers:  5a\n",
      "False\n",
      "Please enter an example of Reserved Words: endd\n",
      "False\n",
      "Please enter an example of Special symbols:  <\n",
      "True\n",
      "Please enter an example of Comment:%%hello\n",
      "True\n"
     ]
    }
   ],
   "source": [
    "re1=\"(\\\\+|-)\\\\d+\"\n",
    "re2=\"[A-Za-z][A-Za-z|\\\\d|\\\\_]\"\n",
    "re3=\"[E|e]nd$|[E|e]lse$|[U|u]ntil$\"\n",
    "re4=\"\\\\>|\\\\<|\\\\≤\"\n",
    "re5=\"%%[\\\\sA-Za-z\\\\d\\\\>|\\\\<|\\\\≤]*\"\n",
    "x1=input('Please enter an example of Numbers: ')\n",
    "L1 = re.search(re1, x1)\n",
    "if L1:\n",
    "  print(\"True\")\n",
    "else:\n",
    "  print(\"False\")\n",
    "x1=input('Please enter an example of Identifiers:  ')\n",
    "L2 = re.search(re2, x1)\n",
    "if L2:\n",
    "  print(\"True\")\n",
    "else:\n",
    "  print(\"False\")\n",
    "x1=input('Please enter an example of Reserved Words: ')\n",
    "L3 = re.search(re3, x1)\n",
    "if L3:\n",
    "  print(\"True\")\n",
    "else:\n",
    "  print(\"False\")\n",
    "x1=input('Please enter an example of Special symbols:  ')\n",
    "L4 = re.search(re4, x1)\n",
    "if L4:\n",
    "  print(\"True\")\n",
    "else:\n",
    "  print(\"False\")\n",
    "x1=input('Please enter an example of Comment:')\n",
    "L5 = re.search(re5, x1)\n",
    "if L5:\n",
    "  print(\"True\")\n",
    "else:\n",
    "  print(\"False\")"
   ]
  },
  {
   "cell_type": "code",
   "execution_count": null,
   "metadata": {},
   "outputs": [],
   "source": []
  },
  {
   "cell_type": "code",
   "execution_count": null,
   "metadata": {},
   "outputs": [],
   "source": []
  }
 ],
 "metadata": {
  "kernelspec": {
   "display_name": "Python 3",
   "language": "python",
   "name": "python3"
  },
  "language_info": {
   "codemirror_mode": {
    "name": "ipython",
    "version": 3
   },
   "file_extension": ".py",
   "mimetype": "text/x-python",
   "name": "python",
   "nbconvert_exporter": "python",
   "pygments_lexer": "ipython3",
   "version": "3.9.1"
  }
 },
 "nbformat": 4,
 "nbformat_minor": 4
}
